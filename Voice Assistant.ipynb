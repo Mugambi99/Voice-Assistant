{
 "cells": [
  {
   "cell_type": "code",
   "execution_count": 1,
   "id": "974c9a3c",
   "metadata": {},
   "outputs": [],
   "source": [
    "# pyttsx3 is a text-to-speech conversion library in Python. \n",
    "# Unlike alternative libraries, it works offline, and is compatible with both Python 2 and 3."
   ]
  },
  {
   "cell_type": "code",
   "execution_count": 5,
   "id": "f9ba110f",
   "metadata": {},
   "outputs": [],
   "source": [
    "pip install pyttsx3"
   ]
  },
  {
   "cell_type": "code",
   "execution_count": 36,
   "id": "f54bbe09",
   "metadata": {},
   "outputs": [],
   "source": [
    "## the usage of pyttsx\n",
    "\n",
    "# import pyttsx3\n",
    "# engine = pyttsx3.init()\n",
    "# engine.say(\"Hello Dwayne, How are you today\")\n",
    "# engine.runAndWait()\n",
    "\n",
    "# essentially you've converted your text to voice"
   ]
  },
  {
   "cell_type": "code",
   "execution_count": 6,
   "id": "441ebee5",
   "metadata": {},
   "outputs": [],
   "source": [
    "pip install SpeechRecognition"
   ]
  },
  {
   "cell_type": "code",
   "execution_count": null,
   "id": "ab5742b3",
   "metadata": {},
   "outputs": [],
   "source": [
    "# Pyaduio is used to play and record audio on a variety of platforms"
   ]
  },
  {
   "cell_type": "code",
   "execution_count": 7,
   "id": "d7be91f0",
   "metadata": {},
   "outputs": [],
   "source": [
    "!pip install pyaudio"
   ]
  },
  {
   "cell_type": "code",
   "execution_count": 13,
   "id": "0700510e",
   "metadata": {},
   "outputs": [],
   "source": [
    "!pip install wikipedia"
   ]
  },
  {
   "cell_type": "code",
   "execution_count": 12,
   "id": "9dd182f7",
   "metadata": {},
   "outputs": [],
   "source": [
    "import pyttsx3\n",
    "import speech_recognition as sr\n",
    "from datetime import date\n",
    "import wikipedia"
   ]
  },
  {
   "cell_type": "code",
   "execution_count": 39,
   "id": "5959e714",
   "metadata": {},
   "outputs": [
    {
     "name": "stdout",
     "output_type": "stream",
     "text": [
      "Welcome my Name is Alexa, To activate me say Alexa first\n",
      "result2:\n",
      "{   'alternative': [   {   'confidence': 0.94461936,\n",
      "                           'transcript': 'Alexa good morning'},\n",
      "                       {'transcript': 'letter good morning'},\n",
      "                       {'transcript': 'lexa good morning'},\n",
      "                       {'transcript': 'lexar good morning'}],\n",
      "    'final': True}\n",
      "YOU :  good morning\n",
      "ChatBot : Good Morning to you, how can I help you?\n",
      "result2:\n",
      "{   'alternative': [   {   'confidence': 0.9446193,\n",
      "                           'transcript': 'what are you doing'}],\n",
      "    'final': True}\n",
      "Alexa : Are you talking to me ?\n",
      "result2:\n",
      "{   'alternative': [   {   'confidence': 0.9446193,\n",
      "                           'transcript': 'Alexa what are you doing'},\n",
      "                       {'transcript': 'Alex or what are you doing'},\n",
      "                       {'transcript': 'alok sir what are you doing'}],\n",
      "    'final': True}\n",
      "YOU :  what are you doing\n",
      "ChatBot : waiting for you sir, say something\n",
      "result2:\n",
      "{   'alternative': [   {   'confidence': 0.9446193,\n",
      "                           'transcript': 'what is the date today'}],\n",
      "    'final': True}\n",
      "Alexa : Are you talking to me ?\n",
      "result2:\n",
      "{   'alternative': [   {   'confidence': 0.92728406,\n",
      "                           'transcript': 'Alexa date today'},\n",
      "                       {'transcript': 'al-aqsa date today'},\n",
      "                       {'transcript': 'Alex a date today'},\n",
      "                       {'transcript': 'Alexia date today'},\n",
      "                       {'transcript': 'Alex or date today'}],\n",
      "    'final': True}\n",
      "YOU :  date today\n",
      "ChatBot : Today's date is 2023-02-07\n",
      "result2:\n",
      "{   'alternative': [   {   'confidence': 0.54896688,\n",
      "                           'transcript': 'Arthur goodbye'},\n",
      "                       {'transcript': 'actor Goodbye'},\n",
      "                       {'transcript': 'otter goodbye'},\n",
      "                       {'transcript': 'aka goodbye'},\n",
      "                       {'transcript': 'Archer goodbye'}],\n",
      "    'final': True}\n",
      "Alexa : Are you talking to me ?\n",
      "result2:\n",
      "{   'alternative': [{'confidence': 0.9446193, 'transcript': 'Alexa goodbye'}],\n",
      "    'final': True}\n",
      "YOU :  goodbye\n",
      "ChatBot : Thank you for your time see you later\n"
     ]
    }
   ],
   "source": [
    "### now we start coding \n",
    "\n",
    "#we have to create a speech object\n",
    "rec=sr.Recognizer()\n",
    "\n",
    "def play(text):\n",
    "    engine = pyttsx3.init()\n",
    "    engine.setProperty(\"rate\",150) ##changing the speed\n",
    "    voices=engine.getProperty(\"voices\")\n",
    "    engine.setProperty(\"voice\",voices[1].id)## 0-male 1-female\n",
    "    engine.say(text)\n",
    "    engine.runAndWait()\n",
    "    \n",
    "def getkeyword2search(Text):## purpose is to get the key words from the question\n",
    "    if \"what is a\" in Text:\n",
    "        Text=Text.replace(\"what is a\",\"\")\n",
    "    \n",
    "    elif \"who is\" in Text:\n",
    "        Text=Text.replace(\"who is\",\"\")\n",
    "        \n",
    "    elif \"tell me about\" in Text:\n",
    "        Text=Text.replace(\"tell me about\",\"\")\n",
    "        \n",
    "    return Text\n",
    "\n",
    "print(\"Welcome my Name is Alexa, To activate me say Alexa first\")\n",
    "play(\"Welcome my Name is Alexa, To activate me say Alexa first\")\n",
    "\n",
    "while True: ## we are now able to continuosuly give an input\n",
    "    try:\n",
    "        with sr.Microphone() as mic:## we create an object for your microphone\n",
    "            voice=rec.listen(mic)## Means our recognizer is listening to the input mic inshort (whatever that has been said will stored in voice variable)\n",
    "            myText=rec.recognize_google(voice)## convert the words into text using google voice translator\n",
    "            \n",
    "            \n",
    "            wrds=myText.split() ## split the text into words \n",
    "            if wrds[0] == \"Alexa\":\n",
    "                myText =myText[6:]\n",
    "                print(\"YOU : \",myText)## we want to display text on the screen\n",
    "                myText=getkeyword2search(myText)\n",
    "            \n",
    "                if \"good morning\" in myText:\n",
    "                    print(\"ChatBot : Good Morning to you, how can I help you?\")\n",
    "                    play(\"Good Morning to you, how can I help you?\")\n",
    "\n",
    "                elif \"good evening\" in myText:\n",
    "                    print(\"ChatBot : Good Evening to you, how can I help you?\")\n",
    "                    play(\"Good Evening to you, how can I help you?\")\n",
    "\n",
    "                elif \"what are you doing\" in myText:\n",
    "                    print(\"ChatBot : waiting for you sir, say something\")\n",
    "                    play(\"waiting for you sir, say something\")\n",
    "\n",
    "                elif \"goodbye\" in myText:\n",
    "                    print(\"ChatBot : Thank you for your time see you later\")\n",
    "                    play(\"Thank you for your time see you later\")\n",
    "                    break\n",
    "\n",
    "                elif \"date today\" in myText:\n",
    "                    msg=str(date.today())\n",
    "                    print(\"ChatBot : Today's date is \"+ msg)\n",
    "                    play(\"Today's date is \"+ msg)\n",
    "\n",
    "                else:\n",
    "                    msg = wikipedia.summary(myText, sentences=2)\n",
    "                    print(\"ChatBot : \"+msg)\n",
    "                    play(msg)\n",
    "            else:\n",
    "                print(\"Alexa : Are you talking to me ?\")\n",
    "\n",
    "                \n",
    "\n",
    "    except sr.UnknownValueError:\n",
    "        print(\"Say something clearly...\")\n",
    "        break"
   ]
  },
  {
   "cell_type": "code",
   "execution_count": 4,
   "id": "fb992efa",
   "metadata": {},
   "outputs": [],
   "source": []
  },
  {
   "cell_type": "code",
   "execution_count": null,
   "id": "7475f6ea",
   "metadata": {},
   "outputs": [],
   "source": [
    "# reference video \"https://www.youtube.com/watch?v=A0-Br8qUebY&t=42s\""
   ]
  }
 ],
 "metadata": {
  "kernelspec": {
   "display_name": "Python 3 (ipykernel)",
   "language": "python",
   "name": "python3"
  },
  "language_info": {
   "codemirror_mode": {
    "name": "ipython",
    "version": 3
   },
   "file_extension": ".py",
   "mimetype": "text/x-python",
   "name": "python",
   "nbconvert_exporter": "python",
   "pygments_lexer": "ipython3",
   "version": "3.9.7"
  }
 },
 "nbformat": 4,
 "nbformat_minor": 5
}
